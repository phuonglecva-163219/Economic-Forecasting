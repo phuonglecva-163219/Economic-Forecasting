{
  "nbformat": 4,
  "nbformat_minor": 0,
  "metadata": {
    "colab": {
      "name": "Colaboratory chào mừng bạn!",
      "provenance": [],
      "collapsed_sections": []
    },
    "kernelspec": {
      "display_name": "Python 3",
      "name": "python3"
    }
  },
  "cells": [
    {
      "cell_type": "code",
      "metadata": {
        "id": "hHr30hCPlvuO"
      },
      "source": [
        "from pandas import read_csv\n",
        "import pandas as pd"
      ],
      "execution_count": 15,
      "outputs": []
    },
    {
      "cell_type": "code",
      "metadata": {
        "id": "atJd0xdolyXp"
      },
      "source": [
        "data =read_csv('data_final.csv', usecols=['time', 'rgdp'])"
      ],
      "execution_count": 300,
      "outputs": []
    },
    {
      "cell_type": "code",
      "metadata": {
        "id": "97w5yZrJl8N3"
      },
      "source": [
        "data.sort_values(by='time', inplace=True)\n",
        "# data\n",
        "data['time'] = ['{}-1-1'.format(x) for x in data['time']]"
      ],
      "execution_count": 301,
      "outputs": []
    },
    {
      "cell_type": "code",
      "metadata": {
        "id": "9TVQTex7l9HB"
      },
      "source": [
        "import matplotlib.pyplot as plt"
      ],
      "execution_count": 302,
      "outputs": []
    },
    {
      "cell_type": "code",
      "metadata": {
        "id": "u8jk7miMmRIQ",
        "outputId": "62a02bd7-fcd3-4319-a798-2b557879052e",
        "colab": {
          "base_uri": "https://localhost:8080/",
          "height": 374
        }
      },
      "source": [
        "plt.plot(data['time'].values, data['rgdp'].values)\n",
        "plt.grid()"
      ],
      "execution_count": 303,
      "outputs": [
        {
          "output_type": "stream",
          "text": [
            "INFO:matplotlib.category:Using categorical units to plot a list of strings that are all parsable as floats or dates. If these strings should be plotted as numbers, cast to the appropriate data type before plotting.\n",
            "INFO:matplotlib.category:Using categorical units to plot a list of strings that are all parsable as floats or dates. If these strings should be plotted as numbers, cast to the appropriate data type before plotting.\n"
          ],
          "name": "stderr"
        },
        {
          "output_type": "display_data",
          "data": {
            "image/png": "[encoded data removed]",
            "text/plain": [
              "<Figure size 864x360 with 1 Axes>"
            ]
          },
          "metadata": {
            "tags": [],
            "needs_background": "light"
          }
        }
      ]
    },
    {
      "cell_type": "code",
      "metadata": {
        "id": "pEBmOwBZmhQW"
      },
      "source": [
        "data.columns = ['ds', 'y']\n",
        "data['ds'] = pd.to_datetime(data['ds'], format='%Y-%m-%d')\n"
      ],
      "execution_count": 304,
      "outputs": []
    },
    {
      "cell_type": "code",
      "metadata": {
        "id": "AsjxugNym0Ck",
        "outputId": "374b2425-1a43-40d0-8420-6f0ccdb94577",
        "colab": {
          "base_uri": "https://localhost:8080/",
          "height": 204
        }
      },
      "source": [
        "data.tail()"
      ],
      "execution_count": 305,
      "outputs": [
        {
          "output_type": "execute_result",
          "data": {
            "text/html": [
              "<div>\n",
              "<style scoped>\n",
              "    .dataframe tbody tr th:only-of-type {\n",
              "        vertical-align: middle;\n",
              "    }\n",
              "\n",
              "    .dataframe tbody tr th {\n",
              "        vertical-align: top;\n",
              "    }\n",
              "\n",
              "    .dataframe thead th {\n",
              "        text-align: right;\n",
              "    }\n",
              "</style>\n",
              "<table border=\"1\" class=\"dataframe\">\n",
              "  <thead>\n",
              "    <tr style=\"text-align: right;\">\n",
              "      <th></th>\n",
              "      <th>ds</th>\n",
              "      <th>y</th>\n",
              "    </tr>\n",
              "  </thead>\n",
              "  <tbody>\n",
              "    <tr>\n",
              "      <th>4</th>\n",
              "      <td>2015-01-01</td>\n",
              "      <td>6.679289</td>\n",
              "    </tr>\n",
              "    <tr>\n",
              "      <th>3</th>\n",
              "      <td>2016-01-01</td>\n",
              "      <td>6.210812</td>\n",
              "    </tr>\n",
              "    <tr>\n",
              "      <th>2</th>\n",
              "      <td>2017-01-01</td>\n",
              "      <td>6.812246</td>\n",
              "    </tr>\n",
              "    <tr>\n",
              "      <th>1</th>\n",
              "      <td>2018-01-01</td>\n",
              "      <td>7.075789</td>\n",
              "    </tr>\n",
              "    <tr>\n",
              "      <th>0</th>\n",
              "      <td>2019-01-01</td>\n",
              "      <td>7.017435</td>\n",
              "    </tr>\n",
              "  </tbody>\n",
              "</table>\n",
              "</div>"
            ],
            "text/plain": [
              "          ds         y\n",
              "4 2015-01-01  6.679289\n",
              "3 2016-01-01  6.210812\n",
              "2 2017-01-01  6.812246\n",
              "1 2018-01-01  7.075789\n",
              "0 2019-01-01  7.017435"
            ]
          },
          "metadata": {
            "tags": []
          },
          "execution_count": 305
        }
      ]
    },
    {
      "cell_type": "code",
      "metadata": {
        "id": "Q-g7oW_lnKpQ",
        "outputId": "cf7642ed-d26f-4598-9694-1e55842ed9ed",
        "colab": {
          "base_uri": "https://localhost:8080/"
        }
      },
      "source": [
        "from fbprophet import Prophet\n",
        "model = Prophet()\n",
        "model.fit(data.iloc[:-6, :])"
      ],
      "execution_count": 306,
      "outputs": [
        {
          "output_type": "stream",
          "text": [
            "INFO:fbprophet:Disabling weekly seasonality. Run prophet with weekly_seasonality=True to override this.\n",
            "INFO:fbprophet:Disabling daily seasonality. Run prophet with daily_seasonality=True to override this.\n",
            "INFO:fbprophet:n_changepoints greater than number of observations. Using 22.\n"
          ],
          "name": "stderr"
        },
        {
          "output_type": "execute_result",
          "data": {
            "text/plain": [
              "<fbprophet.forecaster.Prophet at 0x7f1c554ad490>"
            ]
          },
          "metadata": {
            "tags": []
          },
          "execution_count": 306
        }
      ]
    },
    {
      "cell_type": "code",
      "metadata": {
        "id": "PJ4ABFSUooZ8",
        "outputId": "5225850d-b299-466c-c7bd-d4933e4bdaf7",
        "colab": {
          "base_uri": "https://localhost:8080/",
          "height": 1000
        }
      },
      "source": [
        "from pandas import DataFrame\n",
        "future = list()\n",
        "for i in range(1985, 2020):\n",
        "\tdate = '{}-1-1'.format(i)\n",
        "\tfuture.append([date])\n",
        "future = DataFrame(future)\n",
        "future.columns = ['ds']\n",
        "future['ds']= pd.to_datetime(future['ds'], format='%Y-%m-%d')\n",
        "future"
      ],
      "execution_count": 307,
      "outputs": [
        {
          "output_type": "execute_result",
          "data": {
            "text/html": [
              "<div>\n",
              "<style scoped>\n",
              "    .dataframe tbody tr th:only-of-type {\n",
              "        vertical-align: middle;\n",
              "    }\n",
              "\n",
              "    .dataframe tbody tr th {\n",
              "        vertical-align: top;\n",
              "    }\n",
              "\n",
              "    .dataframe thead th {\n",
              "        text-align: right;\n",
              "    }\n",
              "</style>\n",
              "<table border=\"1\" class=\"dataframe\">\n",
              "  <thead>\n",
              "    <tr style=\"text-align: right;\">\n",
              "      <th></th>\n",
              "      <th>ds</th>\n",
              "    </tr>\n",
              "  </thead>\n",
              "  <tbody>\n",
              "    <tr>\n",
              "      <th>0</th>\n",
              "      <td>1985-01-01</td>\n",
              "    </tr>\n",
              "    <tr>\n",
              "      <th>1</th>\n",
              "      <td>1986-01-01</td>\n",
              "    </tr>\n",
              "    <tr>\n",
              "      <th>2</th>\n",
              "      <td>1987-01-01</td>\n",
              "    </tr>\n",
              "    <tr>\n",
              "      <th>3</th>\n",
              "      <td>1988-01-01</td>\n",
              "    </tr>\n",
              "    <tr>\n",
              "      <th>4</th>\n",
              "      <td>1989-01-01</td>\n",
              "    </tr>\n",
              "    <tr>\n",
              "      <th>5</th>\n",
              "      <td>1990-01-01</td>\n",
              "    </tr>\n",
              "    <tr>\n",
              "      <th>6</th>\n",
              "      <td>1991-01-01</td>\n",
              "    </tr>\n",
              "    <tr>\n",
              "      <th>7</th>\n",
              "      <td>1992-01-01</td>\n",
              "    </tr>\n",
              "    <tr>\n",
              "      <th>8</th>\n",
              "      <td>1993-01-01</td>\n",
              "    </tr>\n",
              "    <tr>\n",
              "      <th>9</th>\n",
              "      <td>1994-01-01</td>\n",
              "    </tr>\n",
              "    <tr>\n",
              "      <th>10</th>\n",
              "      <td>1995-01-01</td>\n",
              "    </tr>\n",
              "    <tr>\n",
              "      <th>11</th>\n",
              "      <td>1996-01-01</td>\n",
              "    </tr>\n",
              "    <tr>\n",
              "      <th>12</th>\n",
              "      <td>1997-01-01</td>\n",
              "    </tr>\n",
              "    <tr>\n",
              "      <th>13</th>\n",
              "      <td>1998-01-01</td>\n",
              "    </tr>\n",
              "    <tr>\n",
              "      <th>14</th>\n",
              "      <td>1999-01-01</td>\n",
              "    </tr>\n",
              "    <tr>\n",
              "      <th>15</th>\n",
              "      <td>2000-01-01</td>\n",
              "    </tr>\n",
              "    <tr>\n",
              "      <th>16</th>\n",
              "      <td>2001-01-01</td>\n",
              "    </tr>\n",
              "    <tr>\n",
              "      <th>17</th>\n",
              "      <td>2002-01-01</td>\n",
              "    </tr>\n",
              "    <tr>\n",
              "      <th>18</th>\n",
              "      <td>2003-01-01</td>\n",
              "    </tr>\n",
              "    <tr>\n",
              "      <th>19</th>\n",
              "      <td>2004-01-01</td>\n",
              "    </tr>\n",
              "    <tr>\n",
              "      <th>20</th>\n",
              "      <td>2005-01-01</td>\n",
              "    </tr>\n",
              "    <tr>\n",
              "      <th>21</th>\n",
              "      <td>2006-01-01</td>\n",
              "    </tr>\n",
              "    <tr>\n",
              "      <th>22</th>\n",
              "      <td>2007-01-01</td>\n",
              "    </tr>\n",
              "    <tr>\n",
              "      <th>23</th>\n",
              "      <td>2008-01-01</td>\n",
              "    </tr>\n",
              "    <tr>\n",
              "      <th>24</th>\n",
              "      <td>2009-01-01</td>\n",
              "    </tr>\n",
              "    <tr>\n",
              "      <th>25</th>\n",
              "      <td>2010-01-01</td>\n",
              "    </tr>\n",
              "    <tr>\n",
              "      <th>26</th>\n",
              "      <td>2011-01-01</td>\n",
              "    </tr>\n",
              "    <tr>\n",
              "      <th>27</th>\n",
              "      <td>2012-01-01</td>\n",
              "    </tr>\n",
              "    <tr>\n",
              "      <th>28</th>\n",
              "      <td>2013-01-01</td>\n",
              "    </tr>\n",
              "    <tr>\n",
              "      <th>29</th>\n",
              "      <td>2014-01-01</td>\n",
              "    </tr>\n",
              "    <tr>\n",
              "      <th>30</th>\n",
              "      <td>2015-01-01</td>\n",
              "    </tr>\n",
              "    <tr>\n",
              "      <th>31</th>\n",
              "      <td>2016-01-01</td>\n",
              "    </tr>\n",
              "    <tr>\n",
              "      <th>32</th>\n",
              "      <td>2017-01-01</td>\n",
              "    </tr>\n",
              "    <tr>\n",
              "      <th>33</th>\n",
              "      <td>2018-01-01</td>\n",
              "    </tr>\n",
              "    <tr>\n",
              "      <th>34</th>\n",
              "      <td>2019-01-01</td>\n",
              "    </tr>\n",
              "  </tbody>\n",
              "</table>\n",
              "</div>"
            ],
            "text/plain": [
              "           ds\n",
              "0  1985-01-01\n",
              "1  1986-01-01\n",
              "2  1987-01-01\n",
              "3  1988-01-01\n",
              "4  1989-01-01\n",
              "5  1990-01-01\n",
              "6  1991-01-01\n",
              "7  1992-01-01\n",
              "8  1993-01-01\n",
              "9  1994-01-01\n",
              "10 1995-01-01\n",
              "11 1996-01-01\n",
              "12 1997-01-01\n",
              "13 1998-01-01\n",
              "14 1999-01-01\n",
              "15 2000-01-01\n",
              "16 2001-01-01\n",
              "17 2002-01-01\n",
              "18 2003-01-01\n",
              "19 2004-01-01\n",
              "20 2005-01-01\n",
              "21 2006-01-01\n",
              "22 2007-01-01\n",
              "23 2008-01-01\n",
              "24 2009-01-01\n",
              "25 2010-01-01\n",
              "26 2011-01-01\n",
              "27 2012-01-01\n",
              "28 2013-01-01\n",
              "29 2014-01-01\n",
              "30 2015-01-01\n",
              "31 2016-01-01\n",
              "32 2017-01-01\n",
              "33 2018-01-01\n",
              "34 2019-01-01"
            ]
          },
          "metadata": {
            "tags": []
          },
          "execution_count": 307
        }
      ]
    },
    {
      "cell_type": "code",
      "metadata": {
        "id": "SL9i4R5Rpzwc",
        "outputId": "638a8d59-5288-40a0-a542-eb40878da3e7",
        "colab": {
          "base_uri": "https://localhost:8080/",
          "height": 1000
        }
      },
      "source": [
        "forecast = model.predict(future)\n",
        "forecast[['ds', 'yhat', 'yhat_lower', 'yhat_upper']]\n"
      ],
      "execution_count": 308,
      "outputs": [
        {
          "output_type": "execute_result",
          "data": {
            "text/html": [
              "<div>\n",
              "<style scoped>\n",
              "    .dataframe tbody tr th:only-of-type {\n",
              "        vertical-align: middle;\n",
              "    }\n",
              "\n",
              "    .dataframe tbody tr th {\n",
              "        vertical-align: top;\n",
              "    }\n",
              "\n",
              "    .dataframe thead th {\n",
              "        text-align: right;\n",
              "    }\n",
              "</style>\n",
              "<table border=\"1\" class=\"dataframe\">\n",
              "  <thead>\n",
              "    <tr style=\"text-align: right;\">\n",
              "      <th></th>\n",
              "      <th>ds</th>\n",
              "      <th>yhat</th>\n",
              "      <th>yhat_lower</th>\n",
              "      <th>yhat_upper</th>\n",
              "    </tr>\n",
              "  </thead>\n",
              "  <tbody>\n",
              "    <tr>\n",
              "      <th>0</th>\n",
              "      <td>1985-01-01</td>\n",
              "      <td>5.923512</td>\n",
              "      <td>3.921037</td>\n",
              "      <td>8.134430</td>\n",
              "    </tr>\n",
              "    <tr>\n",
              "      <th>1</th>\n",
              "      <td>1986-01-01</td>\n",
              "      <td>6.039879</td>\n",
              "      <td>4.222854</td>\n",
              "      <td>8.283974</td>\n",
              "    </tr>\n",
              "    <tr>\n",
              "      <th>2</th>\n",
              "      <td>1987-01-01</td>\n",
              "      <td>6.196075</td>\n",
              "      <td>4.132563</td>\n",
              "      <td>8.361668</td>\n",
              "    </tr>\n",
              "    <tr>\n",
              "      <th>3</th>\n",
              "      <td>1988-01-01</td>\n",
              "      <td>6.391938</td>\n",
              "      <td>4.353388</td>\n",
              "      <td>8.598069</td>\n",
              "    </tr>\n",
              "    <tr>\n",
              "      <th>4</th>\n",
              "      <td>1989-01-01</td>\n",
              "      <td>6.020711</td>\n",
              "      <td>3.845404</td>\n",
              "      <td>8.132636</td>\n",
              "    </tr>\n",
              "    <tr>\n",
              "      <th>5</th>\n",
              "      <td>1990-01-01</td>\n",
              "      <td>6.137078</td>\n",
              "      <td>4.041734</td>\n",
              "      <td>8.160245</td>\n",
              "    </tr>\n",
              "    <tr>\n",
              "      <th>6</th>\n",
              "      <td>1991-01-01</td>\n",
              "      <td>6.293274</td>\n",
              "      <td>4.093945</td>\n",
              "      <td>8.329291</td>\n",
              "    </tr>\n",
              "    <tr>\n",
              "      <th>7</th>\n",
              "      <td>1992-01-01</td>\n",
              "      <td>6.489138</td>\n",
              "      <td>4.331210</td>\n",
              "      <td>8.550443</td>\n",
              "    </tr>\n",
              "    <tr>\n",
              "      <th>8</th>\n",
              "      <td>1993-01-01</td>\n",
              "      <td>6.117911</td>\n",
              "      <td>3.957133</td>\n",
              "      <td>8.220969</td>\n",
              "    </tr>\n",
              "    <tr>\n",
              "      <th>9</th>\n",
              "      <td>1994-01-01</td>\n",
              "      <td>6.234278</td>\n",
              "      <td>4.203729</td>\n",
              "      <td>8.363073</td>\n",
              "    </tr>\n",
              "    <tr>\n",
              "      <th>10</th>\n",
              "      <td>1995-01-01</td>\n",
              "      <td>6.390474</td>\n",
              "      <td>4.282568</td>\n",
              "      <td>8.369271</td>\n",
              "    </tr>\n",
              "    <tr>\n",
              "      <th>11</th>\n",
              "      <td>1996-01-01</td>\n",
              "      <td>6.586337</td>\n",
              "      <td>4.391715</td>\n",
              "      <td>8.627584</td>\n",
              "    </tr>\n",
              "    <tr>\n",
              "      <th>12</th>\n",
              "      <td>1997-01-01</td>\n",
              "      <td>6.215110</td>\n",
              "      <td>4.154999</td>\n",
              "      <td>8.199313</td>\n",
              "    </tr>\n",
              "    <tr>\n",
              "      <th>13</th>\n",
              "      <td>1998-01-01</td>\n",
              "      <td>6.331477</td>\n",
              "      <td>4.315456</td>\n",
              "      <td>8.351786</td>\n",
              "    </tr>\n",
              "    <tr>\n",
              "      <th>14</th>\n",
              "      <td>1999-01-01</td>\n",
              "      <td>6.487673</td>\n",
              "      <td>4.462858</td>\n",
              "      <td>8.452650</td>\n",
              "    </tr>\n",
              "    <tr>\n",
              "      <th>15</th>\n",
              "      <td>2000-01-01</td>\n",
              "      <td>6.683536</td>\n",
              "      <td>4.639489</td>\n",
              "      <td>8.641451</td>\n",
              "    </tr>\n",
              "    <tr>\n",
              "      <th>16</th>\n",
              "      <td>2001-01-01</td>\n",
              "      <td>6.312309</td>\n",
              "      <td>4.241415</td>\n",
              "      <td>8.398839</td>\n",
              "    </tr>\n",
              "    <tr>\n",
              "      <th>17</th>\n",
              "      <td>2002-01-01</td>\n",
              "      <td>6.428676</td>\n",
              "      <td>4.495959</td>\n",
              "      <td>8.617886</td>\n",
              "    </tr>\n",
              "    <tr>\n",
              "      <th>18</th>\n",
              "      <td>2003-01-01</td>\n",
              "      <td>6.584872</td>\n",
              "      <td>4.487381</td>\n",
              "      <td>8.651532</td>\n",
              "    </tr>\n",
              "    <tr>\n",
              "      <th>19</th>\n",
              "      <td>2004-01-01</td>\n",
              "      <td>6.780735</td>\n",
              "      <td>4.689506</td>\n",
              "      <td>8.785082</td>\n",
              "    </tr>\n",
              "    <tr>\n",
              "      <th>20</th>\n",
              "      <td>2005-01-01</td>\n",
              "      <td>6.409508</td>\n",
              "      <td>4.289922</td>\n",
              "      <td>8.496420</td>\n",
              "    </tr>\n",
              "    <tr>\n",
              "      <th>21</th>\n",
              "      <td>2006-01-01</td>\n",
              "      <td>6.525875</td>\n",
              "      <td>4.368542</td>\n",
              "      <td>8.534542</td>\n",
              "    </tr>\n",
              "    <tr>\n",
              "      <th>22</th>\n",
              "      <td>2007-01-01</td>\n",
              "      <td>6.682071</td>\n",
              "      <td>4.645311</td>\n",
              "      <td>8.643786</td>\n",
              "    </tr>\n",
              "    <tr>\n",
              "      <th>23</th>\n",
              "      <td>2008-01-01</td>\n",
              "      <td>6.877935</td>\n",
              "      <td>4.856899</td>\n",
              "      <td>8.907230</td>\n",
              "    </tr>\n",
              "    <tr>\n",
              "      <th>24</th>\n",
              "      <td>2009-01-01</td>\n",
              "      <td>6.506708</td>\n",
              "      <td>4.331964</td>\n",
              "      <td>8.638260</td>\n",
              "    </tr>\n",
              "    <tr>\n",
              "      <th>25</th>\n",
              "      <td>2010-01-01</td>\n",
              "      <td>6.623075</td>\n",
              "      <td>4.534314</td>\n",
              "      <td>8.674535</td>\n",
              "    </tr>\n",
              "    <tr>\n",
              "      <th>26</th>\n",
              "      <td>2011-01-01</td>\n",
              "      <td>6.779270</td>\n",
              "      <td>4.833542</td>\n",
              "      <td>8.813400</td>\n",
              "    </tr>\n",
              "    <tr>\n",
              "      <th>27</th>\n",
              "      <td>2012-01-01</td>\n",
              "      <td>6.975134</td>\n",
              "      <td>4.890109</td>\n",
              "      <td>9.082991</td>\n",
              "    </tr>\n",
              "    <tr>\n",
              "      <th>28</th>\n",
              "      <td>2013-01-01</td>\n",
              "      <td>6.603907</td>\n",
              "      <td>4.385465</td>\n",
              "      <td>8.532760</td>\n",
              "    </tr>\n",
              "    <tr>\n",
              "      <th>29</th>\n",
              "      <td>2014-01-01</td>\n",
              "      <td>6.720274</td>\n",
              "      <td>4.678974</td>\n",
              "      <td>8.636092</td>\n",
              "    </tr>\n",
              "    <tr>\n",
              "      <th>30</th>\n",
              "      <td>2015-01-01</td>\n",
              "      <td>6.876470</td>\n",
              "      <td>4.783393</td>\n",
              "      <td>8.974842</td>\n",
              "    </tr>\n",
              "    <tr>\n",
              "      <th>31</th>\n",
              "      <td>2016-01-01</td>\n",
              "      <td>7.072333</td>\n",
              "      <td>4.982869</td>\n",
              "      <td>9.142256</td>\n",
              "    </tr>\n",
              "    <tr>\n",
              "      <th>32</th>\n",
              "      <td>2017-01-01</td>\n",
              "      <td>6.701106</td>\n",
              "      <td>4.676561</td>\n",
              "      <td>8.728600</td>\n",
              "    </tr>\n",
              "    <tr>\n",
              "      <th>33</th>\n",
              "      <td>2018-01-01</td>\n",
              "      <td>6.817473</td>\n",
              "      <td>4.699174</td>\n",
              "      <td>8.899082</td>\n",
              "    </tr>\n",
              "    <tr>\n",
              "      <th>34</th>\n",
              "      <td>2019-01-01</td>\n",
              "      <td>6.973669</td>\n",
              "      <td>4.987925</td>\n",
              "      <td>9.181478</td>\n",
              "    </tr>\n",
              "  </tbody>\n",
              "</table>\n",
              "</div>"
            ],
            "text/plain": [
              "           ds      yhat  yhat_lower  yhat_upper\n",
              "0  1985-01-01  5.923512    3.921037    8.134430\n",
              "1  1986-01-01  6.039879    4.222854    8.283974\n",
              "2  1987-01-01  6.196075    4.132563    8.361668\n",
              "3  1988-01-01  6.391938    4.353388    8.598069\n",
              "4  1989-01-01  6.020711    3.845404    8.132636\n",
              "5  1990-01-01  6.137078    4.041734    8.160245\n",
              "6  1991-01-01  6.293274    4.093945    8.329291\n",
              "7  1992-01-01  6.489138    4.331210    8.550443\n",
              "8  1993-01-01  6.117911    3.957133    8.220969\n",
              "9  1994-01-01  6.234278    4.203729    8.363073\n",
              "10 1995-01-01  6.390474    4.282568    8.369271\n",
              "11 1996-01-01  6.586337    4.391715    8.627584\n",
              "12 1997-01-01  6.215110    4.154999    8.199313\n",
              "13 1998-01-01  6.331477    4.315456    8.351786\n",
              "14 1999-01-01  6.487673    4.462858    8.452650\n",
              "15 2000-01-01  6.683536    4.639489    8.641451\n",
              "16 2001-01-01  6.312309    4.241415    8.398839\n",
              "17 2002-01-01  6.428676    4.495959    8.617886\n",
              "18 2003-01-01  6.584872    4.487381    8.651532\n",
              "19 2004-01-01  6.780735    4.689506    8.785082\n",
              "20 2005-01-01  6.409508    4.289922    8.496420\n",
              "21 2006-01-01  6.525875    4.368542    8.534542\n",
              "22 2007-01-01  6.682071    4.645311    8.643786\n",
              "23 2008-01-01  6.877935    4.856899    8.907230\n",
              "24 2009-01-01  6.506708    4.331964    8.638260\n",
              "25 2010-01-01  6.623075    4.534314    8.674535\n",
              "26 2011-01-01  6.779270    4.833542    8.813400\n",
              "27 2012-01-01  6.975134    4.890109    9.082991\n",
              "28 2013-01-01  6.603907    4.385465    8.532760\n",
              "29 2014-01-01  6.720274    4.678974    8.636092\n",
              "30 2015-01-01  6.876470    4.783393    8.974842\n",
              "31 2016-01-01  7.072333    4.982869    9.142256\n",
              "32 2017-01-01  6.701106    4.676561    8.728600\n",
              "33 2018-01-01  6.817473    4.699174    8.899082\n",
              "34 2019-01-01  6.973669    4.987925    9.181478"
            ]
          },
          "metadata": {
            "tags": []
          },
          "execution_count": 308
        }
      ]
    },
    {
      "cell_type": "code",
      "metadata": {
        "id": "REEv_naQqa06",
        "outputId": "c743a9ed-6eb3-4a11-f490-1ed9b13a72d4",
        "colab": {
          "base_uri": "https://localhost:8080/",
          "height": 337
        }
      },
      "source": [
        "plt.plot(data['y'].values, label='real')\n",
        "plt.plot(forecast['yhat'], label='predict')\n",
        "plt.plot(forecast['yhat_lower'], label='predict_lower')\n",
        "plt.plot(forecast['yhat_upper'], label='predict upper')\n",
        "plt.grid()\n",
        "plt.legend()"
      ],
      "execution_count": 309,
      "outputs": [
        {
          "output_type": "execute_result",
          "data": {
            "text/plain": [
              "<matplotlib.legend.Legend at 0x7f1c61c56c50>"
            ]
          },
          "metadata": {
            "tags": []
          },
          "execution_count": 309
        },
        {
          "output_type": "display_data",
          "data": {
            "image/png": "[encoded data removed]",
            "text/plain": [
              "<Figure size 864x360 with 1 Axes>"
            ]
          },
          "metadata": {
            "tags": [],
            "needs_background": "light"
          }
        }
      ]
    },
    {
      "cell_type": "code",
      "metadata": {
        "id": "K5qNraXKqh_Q",
        "outputId": "6a9cbf59-ec9b-4f50-f616-7c97f996614d",
        "colab": {
          "base_uri": "https://localhost:8080/",
          "height": 204
        }
      },
      "source": [
        "data = read_csv('data_final.csv')\n",
        "data.sort_values(by='time', inplace=True)\n",
        "lag = 1\n",
        "data.head()"
      ],
      "execution_count": 270,
      "outputs": [
        {
          "output_type": "execute_result",
          "data": {
            "text/html": [
              "<div>\n",
              "<style scoped>\n",
              "    .dataframe tbody tr th:only-of-type {\n",
              "        vertical-align: middle;\n",
              "    }\n",
              "\n",
              "    .dataframe tbody tr th {\n",
              "        vertical-align: top;\n",
              "    }\n",
              "\n",
              "    .dataframe thead th {\n",
              "        text-align: right;\n",
              "    }\n",
              "</style>\n",
              "<table border=\"1\" class=\"dataframe\">\n",
              "  <thead>\n",
              "    <tr style=\"text-align: right;\">\n",
              "      <th></th>\n",
              "      <th>time</th>\n",
              "      <th>rgdp</th>\n",
              "      <th>cpi</th>\n",
              "      <th>aff</th>\n",
              "      <th>manu</th>\n",
              "      <th>m2</th>\n",
              "    </tr>\n",
              "  </thead>\n",
              "  <tbody>\n",
              "    <tr>\n",
              "      <th>34</th>\n",
              "      <td>1985</td>\n",
              "      <td>3.805856</td>\n",
              "      <td>0.382889</td>\n",
              "      <td>0.492997</td>\n",
              "      <td>0.563543</td>\n",
              "      <td>0.393517</td>\n",
              "    </tr>\n",
              "    <tr>\n",
              "      <th>33</th>\n",
              "      <td>1986</td>\n",
              "      <td>2.789292</td>\n",
              "      <td>0.382889</td>\n",
              "      <td>0.492997</td>\n",
              "      <td>0.563543</td>\n",
              "      <td>0.393517</td>\n",
              "    </tr>\n",
              "    <tr>\n",
              "      <th>32</th>\n",
              "      <td>1987</td>\n",
              "      <td>3.583470</td>\n",
              "      <td>0.382889</td>\n",
              "      <td>0.492997</td>\n",
              "      <td>0.563543</td>\n",
              "      <td>0.393517</td>\n",
              "    </tr>\n",
              "    <tr>\n",
              "      <th>31</th>\n",
              "      <td>1988</td>\n",
              "      <td>5.135012</td>\n",
              "      <td>0.382889</td>\n",
              "      <td>0.492997</td>\n",
              "      <td>0.563543</td>\n",
              "      <td>0.393517</td>\n",
              "    </tr>\n",
              "    <tr>\n",
              "      <th>30</th>\n",
              "      <td>1989</td>\n",
              "      <td>7.364513</td>\n",
              "      <td>0.382889</td>\n",
              "      <td>0.492997</td>\n",
              "      <td>0.563543</td>\n",
              "      <td>0.393517</td>\n",
              "    </tr>\n",
              "  </tbody>\n",
              "</table>\n",
              "</div>"
            ],
            "text/plain": [
              "    time      rgdp       cpi       aff      manu        m2\n",
              "34  1985  3.805856  0.382889  0.492997  0.563543  0.393517\n",
              "33  1986  2.789292  0.382889  0.492997  0.563543  0.393517\n",
              "32  1987  3.583470  0.382889  0.492997  0.563543  0.393517\n",
              "31  1988  5.135012  0.382889  0.492997  0.563543  0.393517\n",
              "30  1989  7.364513  0.382889  0.492997  0.563543  0.393517"
            ]
          },
          "metadata": {
            "tags": []
          },
          "execution_count": 270
        }
      ]
    },
    {
      "cell_type": "code",
      "metadata": {
        "id": "2W8BVTftsOgQ"
      },
      "source": [
        "def create_dataset(data, lag=1):\n",
        "  data_X, data_y = [], []\n",
        "  for i in range(lag, len(data)):\n",
        "    pre = data.iloc[i - lag:i, :].values\n",
        "    data_X.append(pre.flatten())\n",
        "    data_y.append(data.iloc[i, 0])\n",
        "  return [list(x) for x in data_X], data_y\n"
      ],
      "execution_count": 271,
      "outputs": []
    },
    {
      "cell_type": "code",
      "metadata": {
        "id": "Kl3jiLFmtkgt"
      },
      "source": [
        "X, y = create_dataset(data.iloc[:, 1:], lag)"
      ],
      "execution_count": 272,
      "outputs": []
    },
    {
      "cell_type": "code",
      "metadata": {
        "id": "quTSPTrrtpII",
        "outputId": "f9c15fc9-594e-44be-e499-893f54068e09",
        "colab": {
          "base_uri": "https://localhost:8080/"
        }
      },
      "source": [
        "from sklearn.model_selection import train_test_split\n",
        "X_train, X_test, y_train, y_test = train_test_split(X, y, shuffle=False, test_size = 0.2)\n",
        "len(X_train[0])"
      ],
      "execution_count": 273,
      "outputs": [
        {
          "output_type": "execute_result",
          "data": {
            "text/plain": [
              "5"
            ]
          },
          "metadata": {
            "tags": []
          },
          "execution_count": 273
        }
      ]
    },
    {
      "cell_type": "code",
      "metadata": {
        "id": "hV4a2ylBtsoN"
      },
      "source": [
        "import pandas\n",
        "from keras.models import Sequential\n",
        "from keras.layers import Dense, Dropout\n",
        "from keras.wrappers.scikit_learn import KerasRegressor\n",
        "from sklearn.model_selection import cross_val_score\n",
        "from sklearn.model_selection import KFold\n",
        "from sklearn.preprocessing import StandardScaler\n",
        "from sklearn.pipeline import Pipeline"
      ],
      "execution_count": 274,
      "outputs": []
    },
    {
      "cell_type": "code",
      "metadata": {
        "id": "Sw87ev-Qu5dn",
        "outputId": "5409fdc7-1cbe-4191-f891-860fb192d12e",
        "colab": {
          "base_uri": "https://localhost:8080/"
        }
      },
      "source": [
        "from keras import backend as K\n",
        "\n",
        "def root_mean_squared_error(y_true, y_pred):\n",
        "        return K.sqrt(K.mean(K.square(y_pred - y_true))) \n",
        "\n",
        "for i in range(1):\n",
        "    \n",
        "  # model defined\n",
        "  model = Sequential()\n",
        "  # model.add(Dense(8, input_dim=5 * lag, activation='relu'))\n",
        "  # model.add(Dropout(0.2))\n",
        "  model.add(Dense(1, use_bias=True))\n",
        "  model.compile(optimizer='rmsprop',  loss = root_mean_squared_error)\n",
        "  model.fit(X_train, y_train, epochs=260, batch_size=4, verbose=0)\n",
        "\n",
        "  print(i, '::>',root_mean_squared_error(y_test, model.predict(X_test).squeeze()))"
      ],
      "execution_count": 295,
      "outputs": [
        {
          "output_type": "stream",
          "text": [
            "0 ::> tf.Tensor(0.563169219295497, shape=(), dtype=float64)\n"
          ],
          "name": "stdout"
        }
      ]
    },
    {
      "cell_type": "code",
      "metadata": {
        "id": "3jVUpPBlxwPF",
        "outputId": "138f21b2-140e-4fdd-e6c6-5a4d7a51d2e4",
        "colab": {
          "base_uri": "https://localhost:8080/",
          "height": 337
        }
      },
      "source": [
        "plt.rcParams[\"figure.figsize\"] = (12,5)\n",
        "\n",
        "model.predict(X_test)\n",
        "real = list(y_train) + list(y_test)\n",
        "predict = model.predict(X).flatten().tolist()\n",
        "predict_train = [None] * len(predict)\n",
        "predict_test = [None] *len(predict) \n",
        "predict_train[:len(X_train) + 1] = predict[: len(X_train) + 1]\n",
        "predict_test[len(X_train):] = predict[len(X_train):]\n",
        "# plt.plot(predict_train, label='rgdp train')\n",
        "plt.plot(real, label='rgdp')\n",
        "plt.plot(predict_train, label='rgdp test')\n",
        "plt.plot(predict_test, label='rgdp test')\n",
        "plt.grid()\n",
        "\n",
        "plt.legend()\n",
        "plt.show()\n",
        "root_mean_squared_error(y_test, model.predict(X_test).squeeze())"
      ],
      "execution_count": 296,
      "outputs": [
        {
          "output_type": "display_data",
          "data": {
            "image/png": "[encoded data removed]",
            "text/plain": [
              "<Figure size 864x360 with 1 Axes>"
            ]
          },
          "metadata": {
            "tags": [],
            "needs_background": "light"
          }
        },
        {
          "output_type": "execute_result",
          "data": {
            "text/plain": [
              "<tf.Tensor: shape=(), dtype=float64, numpy=0.563169219295497>"
            ]
          },
          "metadata": {
            "tags": []
          },
          "execution_count": 296
        }
      ]
    },
    {
      "cell_type": "code",
      "metadata": {
        "id": "bDfmHsJ-zLaN"
      },
      "source": [
        ""
      ],
      "execution_count": 296,
      "outputs": []
    },
    {
      "cell_type": "code",
      "metadata": {
        "id": "Tj2vGoo32Qi0",
        "outputId": "dc77f43c-151f-47db-e40f-2a10530e1c86",
        "colab": {
          "base_uri": "https://localhost:8080/"
        }
      },
      "source": [
        "for x, y in zip(y_test, model.predict(X_test).squeeze().tolist()):\n",
        "  print(x, ':\\t', y)"
      ],
      "execution_count": 297,
      "outputs": [
        {
          "output_type": "stream",
          "text": [
            "5.42188299130713 :\t 4.802999973297119\n",
            "5.9836546369785095 :\t 5.220606327056885\n",
            "6.67928878891428 :\t 6.158000946044922\n",
            "6.21081166789992 :\t 6.708425998687744\n",
            "6.8122456596398 :\t 6.513554096221924\n",
            "7.07578861674985 :\t 7.148849964141846\n",
            "7.017434882187799 :\t 7.818023681640625\n"
          ],
          "name": "stdout"
        }
      ]
    },
    {
      "cell_type": "code",
      "metadata": {
        "id": "wFdwXSib9CAi"
      },
      "source": [
        ""
      ],
      "execution_count": null,
      "outputs": []
    }
  ]
}